{
 "cells": [
  {
   "cell_type": "markdown",
   "metadata": {},
   "source": [
    "%Programs step1, 2, an 3 are for a reversed refraction profile\n",
    "%to obtain the input for seisdip.exe a DOS dipping layer refraction program.\n",
    "%step1 plots the forward and reverse seismic sections. step 2 \n",
    "%is used to pick first arrivals.  Step3 allows you to time the branches and\n",
    "%obtain velocities and intercepts needed for seisdip. You will need to set nb in step 3 \n",
    "%which determiones the number of branches to be picked in the data.\n",
    "%In step 3 you can ensure reciprocity (necessary to < 10 ms if seisdip is to run\n",
    "% successfully) by picking the total travel times of the forward branches as one \n",
    "%of the 2 points defining a reverse branch.  \n",
    "%Make sure if you change files to change variable names\n",
    "%seis=, in the code; \n",
    "%nodata=no. data points; gain is amplification; nostation is number t\n",
    "%Clear previous data and plots.\n",
    "%INPUT ascii files with seismgrams in columns (e.g., fl103.txt, fl106.txt)\n",
    "%      from RAS saved as ascii files.\n",
    "%      nodata=number of data\n",
    "%      gain=amplification\n",
    "%      nostations=number of seismograms to be used\n",
    "%      station1= first station to be used\n",
    "%      =time interval between data points\n",
    "%      dx=spacing between stations\n",
    "%Associated Programs plotseis.m\n",
    "\n",
    "% CHANGE IN 4 PLACES \n",
    "% LINES 31-32 INPUT shots\n",
    "% LINES 38-42 input data\n",
    "% LINES 54, 66  Shot number from lines 31,32\n",
    "% LINES 62, 69  Shot number from lines 31,32"
   ]
  },
  {
   "cell_type": "code",
   "execution_count": 1,
   "metadata": {},
   "outputs": [],
   "source": [
    "import pandas as pd, numpy as np, matplotlib.pyplot as plt\n",
    "from obspy.signal.filter import bandpass\n",
    "from obspy.signal.detrend import polynomial\n",
    "%matplotlib tk"
   ]
  },
  {
   "cell_type": "code",
   "execution_count": 26,
   "metadata": {},
   "outputs": [],
   "source": [
    "nodata=300\n",
    "dt=1/1000\n",
    "nostations=48\n",
    "dx=5\n",
    "rlength=(nostations)*dx\n",
    "station1=0\n",
    "stationn=station1+nostations-1\n",
    "numpicks=49\n",
    "nbranch=2\n",
    "f0=40;width=f0^2\n",
    "fflag=1\n",
    "\n",
    "seisS1=np.genfromtxt('data/Saturday/South/04.txt') #direct wave\n",
    "seisS2=np.genfromtxt('data/Saturday/South/07.txt') #direct wave\n",
    "tseis1='South'\n",
    "seis1=np.hstack((seisS1,seisS2))\n",
    "seisN1=np.genfromtxt('data/Saturday/North/01.txt'); #reverse wave\n",
    "seisN2=np.genfromtxt('data/Saturday/North/05.txt'); #reverse wave\n",
    "\n",
    "tseis2='North'\n",
    "seis2=np.hstack((seisN1,seisN2))\n",
    "\n"
   ]
  },
  {
   "cell_type": "code",
   "execution_count": 38,
   "metadata": {},
   "outputs": [],
   "source": [
    "def plotseis(seis):\n",
    "    fig =plt.figure(figsize=(18,10))\n",
    "    a = fig.add_subplot(111)\n",
    "    for i in range(nostations):\n",
    "    #     tr.normalize()\n",
    "        tr=seis[:nodata,i]\n",
    "    #     tr = minmax_scale(tr, feature_range=(-1,1))\n",
    "        tr=polynomial(tr, order=3, plot=False)  \n",
    "        tr=bandpass(tr,0.1,30,1/dt)\n",
    "        tr=tr/tr.max()*5\n",
    "        dist = dx*i+dx\n",
    "        y = np.arange(nodata)*dt\n",
    "        x = tr+dist\n",
    "        a.plot(x,y,'k')\n",
    "        a.fill_betweenx(y,x,dist,x > dist, color='r', alpha = 0.8)\n",
    "    a.set_xlabel(\"Station Dist\")    \n",
    "\n",
    "    a.set_ylabel(\"sec\")    \n",
    "    a.set_ylim(0,0.3)\n",
    "    a.set_xlim(0,250)\n",
    "\n",
    "    plt.tight_layout()\n",
    "    plt.gca().invert_yaxis()\n",
    "\n",
    "#     plt.show()\n",
    "    return fig,a\n",
    "    \n",
    "def onclick(event):\n",
    "    ix,iy=event.xdata, event.ydata    \n",
    "    plt.plot(ix,iy,'b+')\n",
    "    plt.show()\n",
    "    print(ix,iy)\n",
    "    if len(picks)<nostations:\n",
    "        picks.append((ix,iy))\n",
    "    else:\n",
    "        fig.canvas.mpl_disconnect(cid)\n",
    "\n",
    "    \n",
    "    \n"
   ]
  },
  {
   "cell_type": "code",
   "execution_count": 36,
   "metadata": {},
   "outputs": [
    {
     "name": "stdout",
     "output_type": "stream",
     "text": [
      "4.4474598243 0.018725123628\n",
      "9.62784327063 0.0294717163189\n",
      "13.8940414029 0.0385900373899\n",
      "19.6838817253 0.0483596671089\n",
      "25.1689936096 0.0597575684477\n",
      "29.7399201799 0.0639910746593\n",
      "35.0726678453 0.0721324327584\n",
      "39.6435944155 0.0770172476179\n",
      "44.3668852048 0.0819020624774\n",
      "49.8519970892 0.0916716921964\n",
      "55.1847447545 0.0972078157038\n",
      "59.4509428868 0.102418284887\n",
      "64.9360547712 0.110559642986\n",
      "69.5069813414 0.112839223254\n",
      "75.2968216638 0.118701001086\n",
      "79.4106555771 0.124888433241\n",
      "83.5244894903 0.128144976481\n",
      "92.0568857549 0.134332408636\n",
      "94.9518059161 0.138240260523\n",
      "99.3703682674 0.139868532143\n",
      "103.484202181 0.146707272947\n",
      "108.20749297 0.15028947051\n",
      "114.759154387 0.155499939694\n",
      "120.091902053 0.161687371849\n",
      "124.510464404 0.165920878061\n",
      "129.081390974 0.17080569292\n",
      "134.566502859 0.175039199132\n",
      "138.832700991 0.177318779399\n",
      "144.317812875 0.180249668315\n",
      "150.107653198 0.182529248583\n",
      "155.89749352 0.187739717766\n",
      "159.554234776 0.19132191533\n",
      "165.039346661 0.195881075865\n",
      "169.153180574 0.199137619105\n",
      "175.095385115 0.202719816669\n",
      "179.971040123 0.208255940176\n",
      "184.541966694 0.212163792064\n",
      "189.569985921 0.216397298275\n",
      "195.8169189 0.221607767459\n",
      "199.930752814 0.226818236642\n",
      "204.806407822 0.23235436015\n",
      "210.139155487 0.234959594741\n",
      "215.014810496 0.238541792305\n",
      "219.585737066 0.241798335545\n",
      "224.156663636 0.246031841756\n",
      "229.337047083 0.249939693644\n",
      "235.583980062 0.254173199855\n",
      "239.697813975 0.257104088771\n",
      "242.592734136 0.259058014715\n",
      "245.18292586 0.259709323363\n"
     ]
    }
   ],
   "source": [
    "picks=[]\n",
    "fig, a =plotseis(seis1)\n",
    "cid = fig.canvas.mpl_connect('button_press_event',onclick)"
   ]
  },
  {
   "cell_type": "code",
   "execution_count": 37,
   "metadata": {},
   "outputs": [
    {
     "data": {
      "text/plain": [
       "49"
      ]
     },
     "execution_count": 37,
     "metadata": {},
     "output_type": "execute_result"
    }
   ],
   "source": [
    "len(picks)"
   ]
  },
  {
   "cell_type": "code",
   "execution_count": null,
   "metadata": {},
   "outputs": [],
   "source": []
  }
 ],
 "metadata": {
  "kernelspec": {
   "display_name": "Python 3",
   "language": "python",
   "name": "python3"
  },
  "language_info": {
   "codemirror_mode": {
    "name": "ipython",
    "version": 3
   },
   "file_extension": ".py",
   "mimetype": "text/x-python",
   "name": "python",
   "nbconvert_exporter": "python",
   "pygments_lexer": "ipython3",
   "version": "3.6.7"
  }
 },
 "nbformat": 4,
 "nbformat_minor": 4
}
