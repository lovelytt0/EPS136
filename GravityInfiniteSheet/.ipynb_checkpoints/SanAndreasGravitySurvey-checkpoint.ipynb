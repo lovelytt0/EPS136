{
 "cells": [
  {
   "cell_type": "markdown",
   "metadata": {},
   "source": [
    "EPSS 136 Lab 3\n",
    "San Andreas Fault Gravity Survey\n",
    "Due: February 5, 2018\n",
    "\n",
    "\n",
    "Introduction\n",
    "\n",
    "The objectives of this lab are the following:\n",
    "make corrections to the gravity data collected on the San Andreas Fault;\n",
    "make a semi-infinite sheet model of a density contrast in order to infer the basin structure of the San Andreas Fault using a reasonable guess for starting model parameters.\n",
    "Invert for the parameters of the perturbation to fit to data.\n",
    "You will need the gravity survey data and matlab code posted on CCLE. \n",
    "Our gravity data was collected over a strike-slipfault so for your solution you will need to model the anomaly with a negative or positive gravity contrast for a semi-infinite sheet.\n",
    "\n",
    "Data Entry, explanations\n",
    "\n",
    "For each counter reading, we should have a location, elevation, and time at which we made the reading. We will correct the data for drift, latitude, and the Free Air correction, which means that we need vectors corresponding to the time, location and elevation for each point in addition to a vector containing the counter readings converted to mGals.\n",
    "The following sections describe how you might best construct your vectors in Matlab so that you can make the corrections easily.\n",
    "Please do not forget to average the data collected at the same location before fitting the data. \n",
    "\n",
    "2.1     Location\n",
    "Our readings consisted of latitude and longitude in degrees. Once you have vectors of latitude and longitude in degrees, you may need to convert these points to distances in km along your profile. We will make the simplifying assumption that our gravity survey is simply a cross section of the sedimentary basin, that way we only need to find the distance from the end of the line to each point along it. Do this by setting our westernmost survey point as our origin, and using the GCD function in Matlab.\n",
    "Plot the lat and lon to see the locations of the base and the sites first.\n",
    "\n",
    "\n",
    "Gravity Corrections\n",
    "Your gravity data should be entered in the same order as all of your other parameters so that every ith latitude etc. corresponds to the ith point in our survey. You are now ready to perform the following corrections on the data.\n",
    "\n",
    "3.1     Latitude Correction\n",
    "Please see p. 116 of the textbook. Because our survey does not extend over 10’s of kilometers, we can use the simplified equation 8.8. Please note that Matlab takes the argument of sin in radians.  The sind uses degrees as an argument.\n",
    "\n",
    "32     Free Air Correction\n",
    "Please see p. 116 in the textbook. This correction will be made using the elevation vector you have created. \n",
    "\n",
    "Semi-infinite sheet Model\n",
    "Once you have your corrected gravity, plot it. Edit the code provided to formulate a gravity perturbation model due to a semi infinite sheet, referring to p40 of the Telford chapter posted to CCLE.\n",
    "\n",
    "First, make sure your can plot the raw and corrected data. \n",
    "m\n",
    "mNote: in order to plot the raw data plot on top of the corrected data, you can shift the either one by adding or subtracting a difference on the Y-axis between the curves. Here is what I mean:\n",
    "plot(x,m,x,r)\n",
    "                      plot(x,m,x,r+2)\n",
    "y\n",
    "r\n",
    "y\n",
    "\n",
    "r\n",
    "x\n",
    "x\n",
    "\n",
    "\n",
    "Model Paremeters:\n",
    "d_rho      = %density contrast, kg/m^3\n",
    "thickness  = %sheet thickness, m\n",
    "xoffset    = %distance offset of sheet edge from d=0 (in meters).\n",
    "depth      = %depth of the sheet, m\n",
    "background = %background gravity (3000 to 3400), shift along Y axis\n",
    "\n",
    "I would suggest the following sequence choosing the model numbers:\n",
    "\n",
    "Plot the corrected data. The X-axis units are in km from our new origin. Where would you place the sheet on the distance-axis so its edge approximately overlaps the data? That number is an xoffset estimate. \n",
    "What is an approximate San Andreas fault depth in our survey area? Use that number as a starting point for depth. Smaller depth will produce a more vertical model line. \n",
    "Density contrast (difference in density between the cylinder and the surrounding area) in given in SI units of kg/m3. Is 1000 too high, too low or just fine? Choose a reasonable number, it can be a negative as well.\n",
    "background  is just a shift along Y-axis, you will be changing this a lot.\n",
    "\n",
    "\n",
    "The expression for g is a quadratic equation and plots a parabola in a generic case. In theory, it is possible to find a pretty good fit but on practice that is hard to do. Try to fit at least a general trend of the corrected data. \n",
    "\n",
    "Report/Write up\n",
    "Your write up should include a description of the experiment in a section entitled Introduction, and your data processing and relevant figures in a section called Data and Methods.  You should include figures showing figures containing both the corrected gravity and the raw gravity data (vs distance from reference), and figures showing the corrected data with the model fit. Please use different symbols to plot different data sets such as raw gravity and corrected gravity (for example ’*’ and ’+’) along with the legend command (use Help to see how to use this feature. In a section called Results you should include the model parameters and a discussion of your interpretation of the data. The report should end with the Conclusions section."
   ]
  },
  {
   "cell_type": "code",
   "execution_count": 74,
   "metadata": {},
   "outputs": [],
   "source": [
    "import numpy as np, matplotlib.pyplot as plt\n",
    "import math\n",
    "from obspy.geodetics.base import gps2dist_azimuth\n",
    "from scipy.optimize import curve_fit"
   ]
  },
  {
   "cell_type": "code",
   "execution_count": 73,
   "metadata": {},
   "outputs": [],
   "source": [
    "# DATA format [counter1, counter2, counter3, lat, lon, elevation1,2,3]\n",
    "DATA=[\n",
    "            [3042.10, 3042.03, 3041.75, 34.20567, -117.35238, 598, 602, 594],\n",
    "            [3038.21, 3038.01, 3038.00, 34.20702, -117.35137, 606, 619, 610],\n",
    "            [3033.02, 3032.83, 3032.91, 34.20853, -117.35045, 635, 642, 625],\n",
    "            [3029.53, 3029.35, 3029.42, 34.21000, -117.34935, 646, 656, 650],\n",
    "            [3023.05, 3023.02, 3023.17, 34.21193, -117.34835, 655, 687, 675],\n",
    "            [3015.20, 3015.47, 3015.31, 34.21325, -117.34680, 733, 730, 727],\n",
    "            [3010.70, 3011.04, 3010.75, 34.21405, -117.34499, 748, 752, 746],\n",
    "            [3005.49, 3005.57, 3005.43, 34.21443, -117.34304, 779, 783, 775],\n",
    "            [2999.09, 2999.42, 2999.19, 34.21603, -117.34229, 823, 815, 817],\n",
    "            [2994.38, 2994.70, 2994.25, 34.21752, -117.34113, 847, 845, 835],\n",
    "            [2987.57, 2987.81, 2987.67, 34.21898, -117.34023, 882, 875, 858]\n",
    "]\n",
    "DATA = np.array(DATA)\n",
    "\n",
    "lat = DATA[:,3]   \n",
    "lon = DATA[:,4] \n",
    "\n",
    "#Extract Latitude, longitude, and height of readings %height=mean(DATA(:,6:8),2);\n",
    "height = np.average(DATA[:,5:],axis=1)  \n",
    "\n",
    "#Average instrument readings at each point           %avg_read=median(DATA(:,1:3),2);\n",
    "avg_read = np.average(DATA[:,:3],axis=1)                      \n"
   ]
  },
  {
   "cell_type": "code",
   "execution_count": 40,
   "metadata": {},
   "outputs": [],
   "source": [
    "# Convert instrument readings to uncorrected milligal values (g0).\n",
    "g0 = np.zeros(len(avg_read))                                             \n",
    "g0[:8] = 3081.82 + 1.0278 * (avg_read[:8] - 3000)  \n",
    "g0[8:] = 2979.04 + 1.02778 * (avg_read[8:] - 2900)   \n",
    "\n",
    "#Calculate lattitude correction differential from reference point (point 1)\n",
    "lat_correction = 0.000812 * math.sin( 2 * lat[0] / 57.295) * (111000 * (lat - lat[0]))  \n",
    "\n",
    "#Apply free air correction, bougher terrain correction, and lattiude correction.\n",
    "ydata = g0 + height * (0.308 - 0.12)-lat_correction\n",
    "\n",
    "#Calculate each point's distance from first point in meters.\n",
    "xdata = np.zeros(len(lat))\n",
    "for i in range(len(lat)):\n",
    "    xdata[i] ,_ , _=gps2dist_azimuth(lat[i],lon[i],lat[0],lon[0])                              \n",
    "    "
   ]
  },
  {
   "cell_type": "code",
   "execution_count": 59,
   "metadata": {},
   "outputs": [],
   "source": [
    "def model(x, d_rho, thickness, xoffset, depth, background):\n",
    "    '''\n",
    "    d_rho     ===  density contrast, kg/m^3\n",
    "    thickness ===  sheet thickness, m\n",
    "    xoffset   ===  distance offset of sheet edge from d=0 (in meters).\n",
    "    depth     ===  depth of the sheet, m\n",
    "    background===  background gravity (3000 to 3400), shift along Y axis\n",
    "    '''\n",
    "\n",
    "    G = -6.672 * 10 ** (-11) * 10 ** (5)  # convert m/s^2 to mGal\n",
    "    x = x - xoffset \n",
    "    return (2*G*d_rho*thickness*(math.pi/2 + np.arctan(x/depth)))+background # From Telford, 2.67, p.40\n"
   ]
  },
  {
   "cell_type": "code",
   "execution_count": 71,
   "metadata": {},
   "outputs": [
    {
     "data": {
      "image/png": "[encoded data removed]",
      "text/plain": [
       "<Figure size 576x576 with 1 Axes>"
      ]
     },
     "metadata": {
      "needs_background": "light"
     },
     "output_type": "display_data"
    }
   ],
   "source": [
    "# Create start parameter set p0 from which to invert. Format: p=[drho,thickness,xoff,h,y_shift]\n",
    "p0 = [800, 100, 600, 100, 3234]\n",
    "# Invert xdata ydata for fitted parameter set popt \n",
    "popt, pcov = curve_fit(model, xdata, ydata, p0=p0)\n",
    "\n",
    "# Plot fitted model values vs. data.\n",
    "plt.figure(figsize=(8,8))\n",
    "plt.plot(xdata,ydata,'ro')\n",
    "plt.plot(xdata, model(xdata, *popt), 'g--',\n",
    "        label='fit: d_rho=%5.3f, thickness=%5.3f, xoffset=%5.3f, depth=%5.3f, background=%5.3f' % tuple(popt))\n",
    "plt.xlabel('Distance (m)')\n",
    "plt.ylabel('Gravity Anomaly (mGal)')\n",
    "plt.legend()\n",
    "plt.show()"
   ]
  }
 ],
 "metadata": {
  "kernelspec": {
   "display_name": "Python 3",
   "language": "python",
   "name": "python3"
  },
  "language_info": {
   "codemirror_mode": {
    "name": "ipython",
    "version": 3
   },
   "file_extension": ".py",
   "mimetype": "text/x-python",
   "name": "python",
   "nbconvert_exporter": "python",
   "pygments_lexer": "ipython3",
   "version": "3.6.7"
  }
 },
 "nbformat": 4,
 "nbformat_minor": 4
}
